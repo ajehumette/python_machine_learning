{
 "cells": [
  {
   "cell_type": "markdown",
   "id": "8339718a-d5ad-41d0-b815-3a4b6650268e",
   "metadata": {},
   "source": [
    "# 6th edition\n",
    "I do not own the copyright to these notes from the textbook."
   ]
  },
  {
   "cell_type": "markdown",
   "id": "8677777c-b79c-4e13-a563-0a26072b7d6d",
   "metadata": {},
   "source": [
    "Collateralized Mortgage Obligations (CMOs) are complex financial instruments that are created using mortgage-backed securities (MBS). \n",
    "These securities are backed by pools of mortgage loans, and CMOs were developed as a way to redistribute the cash flows from the underlying \n",
    "mortgage-backed securities into different tranches with varying risk and return profiles. \n",
    "CMOs are a type of asset-backed security."
   ]
  },
  {
   "cell_type": "markdown",
   "id": "0ca1d5ad-b11b-4ad3-adb5-bc60b2d8471c",
   "metadata": {},
   "source": [
    "# Chapter Two: MBS Investors, by Steven Abrahams\n",
    "\n",
    "Banks \n",
    "and thrifts today hold more than 40% of the market in mortgage loans and MBS,\r\n",
    "followed by the roughly 20% share in the portfolios of Fannie Mae and Freddie\r\n",
    "Mac. Non-U.S. portfolios, which include a wide range of public and private institutions,\r\n",
    "take third, with U.S. insurance companies and others trailing behind."
   ]
  },
  {
   "cell_type": "markdown",
   "id": "5a98e582-a89b-45dc-b1ad-f275035b7c1b",
   "metadata": {},
   "source": [
    "A handful of key factors drive the sometimes sharp differences\n",
    "in investment strategy:\n",
    "1. The duration and cost of funding used to purchase mortgages or MBS\n",
    "2. The leverage or amount of capital that the portfolio holds\n",
    "3. The alternative investments that compete with mortgages and MBS\n",
    "4. The accounting rules the investor has to follow\n",
    "5. The regulatory and political environment where the investor operates\n",
    "\n",
    "The value of MBS relative to alternative\r\n",
    "investments can create important investment flows into or out of MBS, independent\r\n",
    "of any changes in the MBS cash flows themselv. "
   ]
  },
  {
   "cell_type": "markdown",
   "id": "4b5199ca-140e-4b73-bf65-13bb23be3c88",
   "metadata": {},
   "source": [
    "\n",
    "At banks and thrifts, the securities portfolio usually dances to the tune set by the\n",
    "rest of the balance sheet.\n",
    "\n",
    "If loan demand is up, then interest in mortgages an \r\n",
    "MBS typically is of Banks and thrifts turn to securities for income and earning \n",
    "when loan demand falls shr\n",
    ".t\n",
    "\n",
    " For banks and thrifts, the major assets that compete with mortgages and \n",
    "MBS are loans to businesses and consumers Banks and thrifts prefer to buy MBS around ar\n",
    " (When a financial instrument is trading below its face value or nominal value, it is said to be trading\"below par\"s"
   ]
  },
  {
   "cell_type": "markdown",
   "id": "0997d2a0-3171-47c7-8650-cf7c47297a04",
   "metadata": {},
   "source": [
    "To help create consistency in their approaches, U.S. regulators have organized\n",
    "themselves into the Federal Financial Institutions Examination Council (FFIEC)."
   ]
  },
  {
   "cell_type": "markdown",
   "id": "b5645805-c4cd-4393-b621-6c622ea7806c",
   "metadata": {},
   "source": [
    "The members of the group include the Federal Reserve Board (FRB), the Federal\n",
    "Deposit Insurance Corporation (FDIC), the National Credit Union Administration\n",
    "(NCUA), the Office of the Comptroller of the Currency (OCC), and the Office of\n",
    "Thrift Supervision (OTS)."
   ]
  },
  {
   "cell_type": "markdown",
   "id": "9e8615dd-61f0-4aeb-bb87-83b823b0686d",
   "metadata": {},
   "source": [
    "Fannie Mae and Freddie Mac traditionally have held a tremendous competitive\n",
    "advantage in the low cost and flexibility of their funding and in their high\n",
    "leverage. GSE funding comes predominantly from a well-developed market for\n",
    "their debt. They issue fixed and floating debt, both callable and noncallable."
   ]
  },
  {
   "cell_type": "markdown",
   "id": "384002c6-5139-4f3b-87dc-3e10a87f4c10",
   "metadata": {},
   "source": [
    "Nevertheless, this is among the highest marginal leverage ratios of\n",
    "any consistent large investor in mortgages. It is roughly three to four times the\n",
    "leverage of the typical bank. This means that if a GSE and a bank both are bidding\n",
    "for an asset, for example, the GSE can buy it profitably at a fraction of the spread\n",
    "to funding that the bank might require. If the GSE also brings a lower cost of funding\n",
    "to the bid, the combination of good funding and high leverage is powerful."
   ]
  },
  {
   "cell_type": "markdown",
   "id": "235540c6-ee27-4725-bcab-5871ca0860fd",
   "metadata": {},
   "source": [
    "The FHFA (Federal Housing Finance Agency) absorbed the regulatory authority of the OFHEO (Office of Federal Housing Enterprise Oversight) and other entities it replaced, including the power to place the housing GSEs into receivership or conservatorship."
   ]
  },
  {
   "cell_type": "markdown",
   "id": "d60a8414-ea35-4ade-80e6-96c08dc53b39",
   "metadata": {},
   "source": [
    "Insurers traditionally have dominated the market for long-duration MBS. Insurers effectively borrow a stream of policy premiums and use it to buy\r\n",
    "assets."
   ]
  },
  {
   "cell_type": "markdown",
   "id": "3f714308-f8f6-41d7-9229-d29134548fed",
   "metadata": {},
   "source": [
    "In general, few mortgage investors\n",
    "have been able to compete with insurers in accumulating large amounts of long,\n",
    "low-cost liabilities. These funds take time and hard work to develop, however,\n",
    "and insurers lack the banks’ or GSEs’ ability to borrow quickly and take advantage\n",
    "of temporary market opportunities."
   ]
  },
  {
   "cell_type": "markdown",
   "id": "25a9980b-4266-4cd5-ae07-3d0d490f3caf",
   "metadata": {},
   "source": [
    "But the most influential voices on insurance\n",
    "companies come from the national rating agencies––Standard & Poor’s, Moody’s,\n",
    "Fitch and A.M. Best among others––since the customers of the insurers look to\n",
    "these agencies for indications of the insurers’ ability to pay claims."
   ]
  },
  {
   "cell_type": "markdown",
   "id": "6281220c-e759-4cae-bae4-6f670a4cf594",
   "metadata": {},
   "source": [
    "Finally, we have total-return portfolios, a label covering a broad front from mutual\n",
    "funds to general money managers to hedge funds. Although total-return portfolios\n",
    "typically come into the mortgage market with a disadvantage in funding\n",
    "and leverage, the regulated portfolios that they compete with lack the flexibility\n",
    "that total-return portfolios enjoy."
   ]
  },
  {
   "cell_type": "markdown",
   "id": "7e836499-3be1-47e3-8221-d1fe2201cffd",
   "metadata": {},
   "source": [
    "Although in theory total-return portfolios have freedom to move across\n",
    "assets classes, in practice, there are some obstacles. The use of market indices to\n",
    "benchmark performance generally encourages the portfolios to keep their asset\n",
    "allocation at least somewhat in line with the index."
   ]
  },
  {
   "cell_type": "markdown",
   "id": "de542b6f-ac8c-4700-a4fa-ed38c3098fd6",
   "metadata": {},
   "source": [
    "And occasionally, entirely new types of investors enter the mortgage market\n",
    "and bring new competitive advantages. Beginning in 2004, for example, the\n",
    "MBS market saw robust interest from overseas central banks."
   ]
  },
  {
   "cell_type": "markdown",
   "id": "a1ee5b02-b45e-46b8-9fe4-5d34de3fc862",
   "metadata": {},
   "source": [
    "# Chapter 4: Trading, settlements, and clearing procedures for agency MBS, by Jeffrey Biby et al.BS"
   ]
  },
  {
   "cell_type": "markdown",
   "id": "829a3c86-290e-4dfd-8011-5ec776394083",
   "metadata": {},
   "source": [
    "In a TBA (to be announced) trade, the seller and buyer agree to the type of security (i.e., agency,\n",
    "program), coupon, face value, price, and settlement date at the time of the trade,\n",
    "but they do not specify the actual pools to be traded."
   ]
  },
  {
   "cell_type": "markdown",
   "id": "d2c426b4-8cc9-4248-9440-72ad14c232ca",
   "metadata": {},
   "source": [
    "In effect, agency MBS trade as though their primary\n",
    "characteristics—weighted-average coupon (WAC), weighted-average maturity\n",
    "(WAM), and prepayment history—are equal to the average of all similar pools\n",
    "outstanding, even though each pool is unique. Generally speaking, this is a reasonable\n",
    "assumption."
   ]
  },
  {
   "cell_type": "markdown",
   "id": "250a78fa-1570-40c1-af2a-18486f6292de",
   "metadata": {},
   "source": [
    "Most mortgage\n",
    "application processes allow a borrower to lock in a mortgage rate at some\n",
    "point prior to closing. After this rate lock, the mortgage originator is exposed to\n",
    "interest-rate risk: the risk that the value of the mortgage may change as market\n",
    "rates change before the mortgage is sold. Actual MBS pools can be formed only\n",
    "after mortgages close; while they are in the pipeline, pool characteristics may\n",
    "shift if applicants withdraw their applications or postpone closing, fail to meet\n",
    "underwriting standards, or change loan amounts."
   ]
  },
  {
   "cell_type": "markdown",
   "id": "bd87a0c3-eea4-41e3-885b-1c13a68b9839",
   "metadata": {},
   "source": [
    "TBA\n",
    "trading allows originators to sell prospective mortgage securities before they\n",
    "know the specific collateral characteristics of the pools. Without the TBA mechanism,\n",
    "mortgage pools could not be sold until they had been formed, and originators\n",
    "would have to hedge their pipelines using Treasury futures or Treasury or\n",
    "MBS options."
   ]
  },
  {
   "cell_type": "markdown",
   "id": "12ba39bc-6f78-449c-a5fa-e8bb0249017d",
   "metadata": {},
   "source": [
    "TBA trades of agency pass-throughs settle monthly according to a schedule\n",
    "established by the Bond Market Association (BMA), the trade association for primary\n",
    "dealers in U.S. government and municipal securities."
   ]
  },
  {
   "cell_type": "markdown",
   "id": "b176a95c-0f9f-461e-a948-651304d2f05d",
   "metadata": {},
   "source": [
    "(Good combo rule): Each million dollars traded can consist of up to three pools (or\n",
    "five pools if the coupon is 11% or higher). An investor buying a $10 million security\n",
    "could receive as few as 1 pool and as many as 30 pools, or 3 pools per million."
   ]
  },
  {
   "cell_type": "markdown",
   "id": "afea61bb-0d96-4467-84f3-86a661ea84e6",
   "metadata": {},
   "source": [
    "Although most TBA trades conform to the BMA guidelines, trades can be negotiated\n",
    "to settle in whatever fashion is satisfactory to both the buyer and the seller. For\n",
    "example, two parties may agree to trade a TBA security on any day of the month. They\n",
    "also could agree to change the amount of variance or allow no variance at all."
   ]
  },
  {
   "cell_type": "markdown",
   "id": "2c91fe38-2302-458b-bb29-b54c31369cdb",
   "metadata": {},
   "source": [
    "MBS trades are cleared through the electronic book-entry transfer systems of Fedwire\n",
    "and the Depository Trust Company (DTC). Fedwire, a system maintained by the Federal\n",
    "Reserve System, handles Freddie Mac and Fannie Mae securities."
   ]
  },
  {
   "cell_type": "markdown",
   "id": "3d87b0cf-d1b5-4160-824b-0293fc67f12f",
   "metadata": {},
   "source": [
    "Although physical\n",
    "delivery is possible, the cost of removing mortgage securities from\n",
    "book-entry systems is substantial. The Depository Trust Company (DTC)\n",
    "controls GNMA products, and Fedwire handles FNMA and FHLMC\n",
    "securities. These systems also transfer monthly payments to investors."
   ]
  },
  {
   "cell_type": "markdown",
   "id": "af60c624-a889-44a6-998e-6ab593c41391",
   "metadata": {},
   "source": [
    "Cost of fail: The opportunity cost of fund between the original and actual settlement dates, for\n",
    "which the buyer does not compensate the dealer."
   ]
  },
  {
   "cell_type": "markdown",
   "id": "9d51a8d1-9eda-4155-b4f6-6d249a343c48",
   "metadata": {},
   "source": [
    "# Chapter 5: DEFINING NONAGENCY MBS, by THOMAS ZIMMERMAN"
   ]
  },
  {
   "cell_type": "markdown",
   "id": "cfbcea26-fb67-4298-860a-f6888a7dfaad",
   "metadata": {},
   "source": [
    "For example, alt-A developed out of the jumbo market when issuers\n",
    "found that homeowners with prime credit but with ownership and/or documentation\n",
    "issues that did not meet the jumbo criteria existed in sufficient number to establish a\n",
    "new category of loans that could be securitized"
   ]
  },
  {
   "cell_type": "markdown",
   "id": "c6865d3f-fe9b-4fbe-a1ec-aa17f9cad571",
   "metadata": {},
   "source": [
    "More recently, a variety of high loan-to-value (hi-LTV) ratio, home equity line\n",
    "of credit (HELOC), scratch and dent, and second-lien mortgages have been securitized,\n",
    "and nonagency MBS now come in many flavors and sizes. Therefore, today investors\n",
    "can find nonagency mortgage securities that fit almost any investment objective."
   ]
  },
  {
   "cell_type": "markdown",
   "id": "2b5eee9d-ce40-4623-a13c-f8fe00192d3d",
   "metadata": {},
   "source": [
    "Lien status is the simplest distinction between mortgage sectors. All agency, jumbo,\n",
    "and most alt-A loans are first liens. All traditional HELOCs are second liens\n",
    "(although a few small programs feature HELOC firsts)."
   ]
  },
  {
   "cell_type": "markdown",
   "id": "ebe55984-ee52-4515-9a1c-76c2126453d3",
   "metadata": {},
   "source": [
    "Because the benefit of a refinancing is largely determined by the size of a loan, prepayment\n",
    "speeds are closely related to average loan size. Hence size is a very important\n",
    "loan characteristic. Size also plays a role in credit performance. Low-balance\n",
    "loans typically have higher loss severities than do large loans."
   ]
  },
  {
   "cell_type": "markdown",
   "id": "c08b8ec7-4424-40b1-b76a-e92a2b54286c",
   "metadata": {},
   "source": [
    "Subprime loans typically are smaller than agency loans, averaging around\n",
    "$165,000. Their relatively small loan size is caused by two factors. Individuals\n",
    "taking out a subprime loan have lower income and hence smaller homes and lower\n",
    "loan balances than the average homeowner. Also, originators are cautious about\n",
    "making large loans to individuals with less-than-perfect credit."
   ]
  },
  {
   "cell_type": "markdown",
   "id": "4ed0b05c-2cb2-4b14-ba40-f02639b8ceaa",
   "metadata": {},
   "source": [
    "For a loan to qualify for inclusion in an agency pool, the borrower must have a\n",
    "“prime,” or A, credit rating."
   ]
  },
  {
   "cell_type": "code",
   "execution_count": null,
   "id": "5e345f77-53bb-40a0-a1fb-c896432e2aa1",
   "metadata": {},
   "outputs": [],
   "source": []
  }
 ],
 "metadata": {
  "kernelspec": {
   "display_name": "Python 3 (ipykernel)",
   "language": "python",
   "name": "python3"
  },
  "language_info": {
   "codemirror_mode": {
    "name": "ipython",
    "version": 3
   },
   "file_extension": ".py",
   "mimetype": "text/x-python",
   "name": "python",
   "nbconvert_exporter": "python",
   "pygments_lexer": "ipython3",
   "version": "3.10.10"
  }
 },
 "nbformat": 4,
 "nbformat_minor": 5
}
