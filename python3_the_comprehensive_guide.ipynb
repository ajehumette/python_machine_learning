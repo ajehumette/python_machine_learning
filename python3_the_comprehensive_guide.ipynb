{
 "cells": [
  {
   "cell_type": "markdown",
   "id": "35809dad-eb5d-45c6-b99e-fced6b477bd4",
   "metadata": {},
   "source": [
    "# Chapter 12: Sequential data types"
   ]
  },
  {
   "cell_type": "code",
   "execution_count": 3,
   "id": "677407f8-2150-42d6-bfba-6891c8293457",
   "metadata": {},
   "outputs": [
    {
     "data": {
      "text/plain": [
       "'A lot of money: 12,345,678,900'"
      ]
     },
     "execution_count": 3,
     "metadata": {},
     "output_type": "execute_result"
    }
   ],
   "source": [
    "\"A lot of money: {:,d}\".format(12345678900)"
   ]
  },
  {
   "cell_type": "code",
   "execution_count": 3,
   "id": "0fdc3875-e161-4a32-ab5c-e98405cb5e95",
   "metadata": {},
   "outputs": [
    {
     "name": "stdout",
     "output_type": "stream",
     "text": [
      "variable_1=12, variable_2=24\n"
     ]
    }
   ],
   "source": [
    "var1 = 12\n",
    "var2 = 24\n",
    "print(f\"variable_1={var1}, variable_2={var2}\")"
   ]
  },
  {
   "cell_type": "code",
   "execution_count": 6,
   "id": "d9d50555-1d2a-4a43-90a6-266c90043f94",
   "metadata": {},
   "outputs": [
    {
     "name": "stdout",
     "output_type": "stream",
     "text": [
      "var1=12, var2=24\n"
     ]
    }
   ],
   "source": [
    "# Self-documenting alternative\n",
    "print(f\"{var1=}, {var2=}\")"
   ]
  },
  {
   "cell_type": "code",
   "execution_count": 7,
   "id": "bac868c5-48ce-414c-9afb-142200f061dd",
   "metadata": {},
   "outputs": [],
   "source": [
    "# ASCII is short for American Standard Code for Information Interchange"
   ]
  },
  {
   "cell_type": "code",
   "execution_count": 9,
   "id": "c7aa5ca1-2f68-45c0-b3eb-d7e62efe8335",
   "metadata": {},
   "outputs": [
    {
     "data": {
      "text/plain": [
       "b'P\\xfcth\\xf8n'"
      ]
     },
     "execution_count": 9,
     "metadata": {},
     "output_type": "execute_result"
    }
   ],
   "source": [
    "str_string = \"Püthøn\"\n",
    "bytes_string = str_string.encode(\"iso-8859-15\")\n",
    "bytes_string\n",
    "# \\xfc and \\xf8 represent ü and \\xf8 respectively."
   ]
  },
  {
   "cell_type": "code",
   "execution_count": 10,
   "id": "6809121b-2ba8-4605-823a-015a18acbe95",
   "metadata": {},
   "outputs": [
    {
     "data": {
      "text/plain": [
       "'Püthøn'"
      ]
     },
     "execution_count": 10,
     "metadata": {},
     "output_type": "execute_result"
    }
   ],
   "source": [
    "bytes_string.decode(\"iso-8859-15\")"
   ]
  },
  {
   "cell_type": "code",
   "execution_count": null,
   "id": "166b7295-a294-4766-bad3-9c1b8a8f81bd",
   "metadata": {},
   "outputs": [],
   "source": [
    "# utf-8 stands for Unicode Transformation Format which is compatible with ASCII but can cover more \n",
    "# characters more easily."
   ]
  },
  {
   "cell_type": "code",
   "execution_count": 11,
   "id": "9e09f46d-929f-42ce-9b82-e0f66e8f3ca0",
   "metadata": {},
   "outputs": [
    {
     "name": "stdout",
     "output_type": "stream",
     "text": [
      "€\n"
     ]
    }
   ],
   "source": [
    "s = \"\\u20ac\"\n",
    "print(s)"
   ]
  },
  {
   "cell_type": "code",
   "execution_count": 12,
   "id": "3733335d-328c-4551-aaf6-2d5614f70e0e",
   "metadata": {},
   "outputs": [
    {
     "data": {
      "text/plain": [
       "'€'"
      ]
     },
     "execution_count": 12,
     "metadata": {},
     "output_type": "execute_result"
    }
   ],
   "source": [
    "\"\\N{euro sign}\""
   ]
  },
  {
   "cell_type": "code",
   "execution_count": 14,
   "id": "8fe940ea-ddfc-4ee4-8310-f2e0b12a186c",
   "metadata": {},
   "outputs": [
    {
     "data": {
      "text/plain": [
       "'🐍'"
      ]
     },
     "execution_count": 14,
     "metadata": {},
     "output_type": "execute_result"
    }
   ],
   "source": [
    "\"\\N{Snake}\""
   ]
  },
  {
   "cell_type": "code",
   "execution_count": 17,
   "id": "65d6d3d5-a663-46b3-b4c9-7a9f73ca3c65",
   "metadata": {},
   "outputs": [
    {
     "data": {
      "text/plain": [
       "'Pthn'"
      ]
     },
     "execution_count": 17,
     "metadata": {},
     "output_type": "execute_result"
    }
   ],
   "source": [
    "bytes_string.decode(\"ascii\", \"ignore\")"
   ]
  },
  {
   "cell_type": "markdown",
   "id": "85d023dd-70cd-4165-9275-709ae82412f4",
   "metadata": {},
   "source": [
    "## Chapter 13: Mapping and Sets"
   ]
  },
  {
   "cell_type": "code",
   "execution_count": 24,
   "id": "a7b9d207-a5da-4ed3-89f1-63bfeb30d58d",
   "metadata": {},
   "outputs": [],
   "source": [
    "translations = {\"Germany\":\"Deutschland\", \"Spain\":\"Spanien\", \"France\": \"Frankreich\"}"
   ]
  },
  {
   "cell_type": "code",
   "execution_count": 20,
   "id": "9225f81c-e4d5-4e2f-b87d-5d4649e1b6cf",
   "metadata": {},
   "outputs": [],
   "source": [
    "#Dictionaries keys do not have to be strings.But you cant use a mutable type such as a list as a key.\n",
    "mapping = {0:1, (1,3,3,7): \"def\"}"
   ]
  },
  {
   "cell_type": "code",
   "execution_count": 22,
   "id": "69b801ef-81d8-4d0d-bd77-16e0b72ab471",
   "metadata": {},
   "outputs": [
    {
     "name": "stdout",
     "output_type": "stream",
     "text": [
      "Germany\n",
      "Spain\n"
     ]
    }
   ],
   "source": [
    "for key in translations:\n",
    "    print(key)"
   ]
  },
  {
   "cell_type": "code",
   "execution_count": 23,
   "id": "88903641-2b1f-4b14-b4ad-8f95b3bf95c5",
   "metadata": {},
   "outputs": [
    {
     "name": "stdout",
     "output_type": "stream",
     "text": [
      "Deutschland\n",
      "Spanien\n"
     ]
    }
   ],
   "source": [
    "for values in translations.values():\n",
    "    print(values)"
   ]
  },
  {
   "cell_type": "code",
   "execution_count": 26,
   "id": "a9a64e87-0e97-4aee-a0c8-1c3da92c3b8a",
   "metadata": {},
   "outputs": [
    {
     "name": "stdout",
     "output_type": "stream",
     "text": [
      "Germany -> Deutschland\n",
      "Spain -> Spanien\n",
      "France -> Frankreich\n"
     ]
    }
   ],
   "source": [
    "for key, values in translations.items():\n",
    "    print(key, \"->\", values)"
   ]
  },
  {
   "cell_type": "code",
   "execution_count": 27,
   "id": "0151bd48-11ec-4b25-946d-9f47438e0c55",
   "metadata": {},
   "outputs": [
    {
     "ename": "KeyError",
     "evalue": "2",
     "output_type": "error",
     "traceback": [
      "\u001b[1;31m---------------------------------------------------------------------------\u001b[0m",
      "\u001b[1;31mKeyError\u001b[0m                                  Traceback (most recent call last)",
      "Cell \u001b[1;32mIn[27], line 1\u001b[0m\n\u001b[1;32m----> 1\u001b[0m \u001b[43mtranslations\u001b[49m\u001b[43m[\u001b[49m\u001b[38;5;241;43m2\u001b[39;49m\u001b[43m]\u001b[49m\n",
      "\u001b[1;31mKeyError\u001b[0m: 2"
     ]
    }
   ],
   "source": []
  },
  {
   "cell_type": "code",
   "execution_count": null,
   "id": "39c15098-3aee-4d08-9beb-48599376f590",
   "metadata": {},
   "outputs": [],
   "source": []
  },
  {
   "cell_type": "code",
   "execution_count": null,
   "id": "e1737dbd-d8c4-434c-a3ae-86eb5c91fa33",
   "metadata": {},
   "outputs": [],
   "source": []
  },
  {
   "cell_type": "code",
   "execution_count": null,
   "id": "00d7ea91-50a3-4688-b58d-f6a09d630a15",
   "metadata": {},
   "outputs": [],
   "source": []
  },
  {
   "cell_type": "code",
   "execution_count": null,
   "id": "0833bd01-b1d2-4120-ad4e-d7ef0a2d00ac",
   "metadata": {},
   "outputs": [],
   "source": []
  },
  {
   "cell_type": "code",
   "execution_count": null,
   "id": "7b7b1e64-a606-4cab-b857-0e0a270ca877",
   "metadata": {},
   "outputs": [],
   "source": []
  },
  {
   "cell_type": "code",
   "execution_count": null,
   "id": "86c9d8f7-7d46-4096-aae7-c57e11b9d608",
   "metadata": {},
   "outputs": [],
   "source": []
  },
  {
   "cell_type": "code",
   "execution_count": null,
   "id": "66567be3-c287-4bd9-a42e-7e75434a5f9f",
   "metadata": {},
   "outputs": [],
   "source": []
  },
  {
   "cell_type": "code",
   "execution_count": null,
   "id": "d717561f-dd27-4ced-8ba0-c264bb781691",
   "metadata": {},
   "outputs": [],
   "source": []
  },
  {
   "cell_type": "code",
   "execution_count": null,
   "id": "4a63e9fc-62c1-49cb-a490-2be6f33f2eb2",
   "metadata": {},
   "outputs": [],
   "source": []
  },
  {
   "cell_type": "code",
   "execution_count": null,
   "id": "cf126b09-8e51-47b3-9b03-916168cf1470",
   "metadata": {},
   "outputs": [],
   "source": []
  }
 ],
 "metadata": {
  "kernelspec": {
   "display_name": "Python 3 (ipykernel)",
   "language": "python",
   "name": "python3"
  },
  "language_info": {
   "codemirror_mode": {
    "name": "ipython",
    "version": 3
   },
   "file_extension": ".py",
   "mimetype": "text/x-python",
   "name": "python",
   "nbconvert_exporter": "python",
   "pygments_lexer": "ipython3",
   "version": "3.10.10"
  }
 },
 "nbformat": 4,
 "nbformat_minor": 5
}
